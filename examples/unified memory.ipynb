{
 "cells": [
  {
   "cell_type": "code",
   "execution_count": null,
   "metadata": {},
   "outputs": [],
   "source": [
    "import itertools\n",
    "import pprint\n",
    "import sys"
   ]
  },
  {
   "cell_type": "code",
   "execution_count": null,
   "metadata": {},
   "outputs": [],
   "source": [
    "sys.path.append(\"../src\")\n",
    "import hw_loading\n",
    "import processor_utils\n",
    "from processor_utils import units\n",
    "from processor_utils.units import FuncUnit\n",
    "import program_utils\n",
    "import sim_services\n",
    "from str_utils import ICaseString"
   ]
  },
  {
   "cell_type": "code",
   "execution_count": null,
   "metadata": {},
   "outputs": [],
   "source": [
    "capabilities = [ICaseString(cap) for cap in [\"ALU\", \"MEM\"]]\n",
    "fetch_unit, decode_unit, execute_unit, memory_unit, writeback_unit = (units.UnitModel(ICaseString(name), 1, capabilities, units.LockInfo(rd_lock, wr_lock), mem_acl) for name, rd_lock, wr_lock, mem_acl in [('F', False, False, capabilities), ('D', True, False, []), ('X', False, False, []), ('M', False, False, capabilities), ('W', False, True, [])])"
   ]
  },
  {
   "cell_type": "code",
   "execution_count": null,
   "metadata": {},
   "outputs": [],
   "source": [
    "proc_desc = processor_utils.ProcessorDesc([fetch_unit], [FuncUnit(writeback_unit, [memory_unit])], [], itertools.starmap(FuncUnit, [[memory_unit, [execute_unit]], [execute_unit, [decode_unit]], [decode_unit, [fetch_unit]]]))\n",
    "hw_desc = hw_loading.HwDesc(proc_desc, processor_utils.load_isa([(\"LW\", \"MEM\"), (\"ADD\", \"ALU\")], processor_utils.get_abilities(proc_desc)))"
   ]
  },
  {
   "cell_type": "code",
   "execution_count": null,
   "metadata": {},
   "outputs": [],
   "source": [
    "prog = program_utils.compile_program(program_utils.read_program([\"LW R1, (R2)\", \"ADD R3, R4, R5\", \"ADD R6, R7, R8\", \"ADD R9, R10, R11\"]), hw_desc.isa)"
   ]
  },
  {
   "cell_type": "code",
   "execution_count": null,
   "metadata": {},
   "outputs": [],
   "source": [
    "pprint.pp(sim_services.simulate(prog, sim_services.HwSpec(hw_desc.processor)))"
   ]
  }
 ],
 "metadata": {
  "language_info": {
   "codemirror_mode": {
    "name": "ipython",
    "version": 3
   },
   "file_extension": ".py",
   "mimetype": "text/x-python",
   "name": "python",
   "nbconvert_exporter": "python",
   "pygments_lexer": "ipython3",
   "version": "3.8.7-final"
  },
  "orig_nbformat": 2,
  "kernelspec": {
   "name": "python3",
   "display_name": "Python 3",
   "language": "python"
  }
 },
 "nbformat": 4,
 "nbformat_minor": 2
}