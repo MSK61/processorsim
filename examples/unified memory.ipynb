{
 "cells": [
  {
   "cell_type": "code",
   "execution_count": null,
   "metadata": {},
   "outputs": [],
   "source": [
    "############################################################\n",
    "#\n",
    "# Copyright 2017, 2019, 2020, 2021, 2022, 2023, 2024 Mohammed El-Afifi\n",
    "# This file is part of processorSim.\n",
    "#\n",
    "# processorSim is free software: you can redistribute it and/or modify\n",
    "# it under the terms of the GNU Lesser General Public License as\n",
    "# published by the Free Software Foundation, either version 3 of the\n",
    "# License, or (at your option) any later version.\n",
    "#\n",
    "# processorSim is distributed in the hope that it will be useful,\n",
    "# but WITHOUT ANY WARRANTY; without even the implied warranty of\n",
    "# MERCHANTABILITY or FITNESS FOR A PARTICULAR PURPOSE.  See the\n",
    "# GNU Lesser General Public License for more details.\n",
    "#\n",
    "# You should have received a copy of the GNU Lesser General Public\n",
    "# License along with processorSim.  If not, see\n",
    "# <http://www.gnu.org/licenses/>.\n",
    "#\n",
    "# program:      processor simulator\n",
    "#\n",
    "# file:         unified memory.ipynb\n",
    "#\n",
    "# function:     unified memory example\n",
    "#\n",
    "# description:  demonstrates the use of the simulator utilities for\n",
    "#               tracking instruction execution inside a unified memory\n",
    "#               processor architecture\n",
    "#\n",
    "# author:       Mohammed El-Afifi (ME)\n",
    "#\n",
    "# environment:  Visual Studio Code 1.92.0, python 3.12.4, Fedora release\n",
    "#               40 (Forty)\n",
    "#\n",
    "# notes:        This is a private program.\n",
    "#\n",
    "############################################################"
   ]
  },
  {
   "cell_type": "code",
   "execution_count": null,
   "metadata": {},
   "outputs": [],
   "source": [
    "import itertools\n",
    "import logging\n",
    "import pprint\n",
    "import sys"
   ]
  },
  {
   "cell_type": "code",
   "execution_count": null,
   "metadata": {},
   "outputs": [],
   "source": [
    "sys.path.append(\"../src\")\n",
    "import hw_loading\n",
    "import processor_utils\n",
    "from processor_utils import units\n",
    "from processor_utils.units import FuncUnit\n",
    "import program_utils\n",
    "import sim_services"
   ]
  },
  {
   "cell_type": "code",
   "execution_count": null,
   "metadata": {},
   "outputs": [],
   "source": [
    "logging.basicConfig(level=logging.INFO)"
   ]
  },
  {
   "cell_type": "code",
   "execution_count": null,
   "metadata": {},
   "outputs": [],
   "source": [
    "capabilities = [\"ALU\", \"MEM\"]\n",
    "fetch_unit, decode_unit, execute_unit, memory_unit, writeback_unit = (\n",
    "    units.UnitModel(\n",
    "        name, 1, capabilities, units.LockInfo(rd_lock, wr_lock), mem_acl\n",
    "    )\n",
    "    for name, rd_lock, wr_lock, mem_acl in [\n",
    "        (\"F\", False, False, capabilities),\n",
    "        (\"D\", True, False, []),\n",
    "        (\"X\", False, False, []),\n",
    "        (\"M\", False, False, capabilities),\n",
    "        (\"W\", False, True, []),\n",
    "    ]\n",
    ")"
   ]
  },
  {
   "cell_type": "code",
   "execution_count": null,
   "metadata": {},
   "outputs": [],
   "source": [
    "proc_desc = processor_utils.ProcessorDesc(\n",
    "    [fetch_unit],\n",
    "    [FuncUnit(writeback_unit, [memory_unit])],\n",
    "    [],\n",
    "    itertools.starmap(\n",
    "        FuncUnit,\n",
    "        [\n",
    "            [memory_unit, [execute_unit]],\n",
    "            [execute_unit, [decode_unit]],\n",
    "            [decode_unit, [fetch_unit]],\n",
    "        ],\n",
    "    ),\n",
    ")\n",
    "hw_desc = hw_loading.HwDesc(\n",
    "    proc_desc,\n",
    "    processor_utils.load_isa(\n",
    "        [(\"LW\", \"MEM\"), (\"ADD\", \"ALU\")],\n",
    "        processor_utils.get_abilities(proc_desc),\n",
    "    ),\n",
    ")"
   ]
  },
  {
   "cell_type": "code",
   "execution_count": null,
   "metadata": {},
   "outputs": [],
   "source": [
    "prog = program_utils.compile_program(\n",
    "    program_utils.read_program(\n",
    "        [\"LW R1, (R2)\", \"ADD R3, R4, R5\", \"ADD R6, R7, R8\", \"ADD R9, R10, R11\"]\n",
    "    ),\n",
    "    hw_desc.isa,\n",
    ")"
   ]
  },
  {
   "cell_type": "code",
   "execution_count": null,
   "metadata": {},
   "outputs": [],
   "source": [
    "pprint.pp(sim_services.simulate(prog, sim_services.HwSpec(hw_desc.processor)))"
   ]
  }
 ],
 "metadata": {
  "kernelspec": {
   "display_name": "Python 3.12.4 ('.venv': pipenv)",
   "language": "python",
   "name": "python3"
  },
  "language_info": {
   "codemirror_mode": {
    "name": "ipython",
    "version": 3
   },
   "file_extension": ".py",
   "mimetype": "text/x-python",
   "name": "python",
   "nbconvert_exporter": "python",
   "pygments_lexer": "ipython3",
   "version": "3.12.4"
  },
  "orig_nbformat": 2,
  "vscode": {
   "interpreter": {
    "hash": "a6e6494b31f5f594662f1a8e2d921aeddd6dcc141ee8d1d93913332492a0ba8d"
   }
  }
 },
 "nbformat": 4,
 "nbformat_minor": 2
}
